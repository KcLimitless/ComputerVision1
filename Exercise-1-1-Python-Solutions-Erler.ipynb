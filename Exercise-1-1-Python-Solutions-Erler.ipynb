{
 "cells": [
  {
   "cell_type": "markdown",
   "metadata": {
    "slideshow": {
     "slide_type": "slide"
    }
   },
   "source": [
    "# Computer Vision \n",
    "\n",
    "# Exercise 1: Introduction To Python, NumPy And Matplotlib\n",
    "\n",
    "- TU Chemnitz\n",
    "    - Fak. für Informatik\n",
    "        - Professur Künstliche Intelligenz\n",
    "            - Lehre\n",
    "                - Bildverstehen\n",
    "     \n",
    "Contact:\n",
    "* julien dot vitay at informatik dot tu-chemnitz dot de\n",
    "* abbas dot al-ali at informatik dot tu-chemnitz dot de\n",
    "\n",
    "Course web page:\n",
    "[https://www.tu-chemnitz.de/informatik/KI/edu/biver/](https://www.tu-chemnitz.de/informatik/KI/edu/biver/)"
   ]
  },
  {
   "cell_type": "markdown",
   "metadata": {
    "slideshow": {
     "slide_type": "slide"
    }
   },
   "source": [
    "## Exercise 1-1: Introduction To Python\n",
    "\n",
    "## Introduction\n",
    "\n",
    "Python is a powerful, flexible programming language you can use for scientific computing, in web/Internet development, to write desktop graphical user interfaces (GUIs), create games, and much more.\n",
    "\n",
    "Python is an high-level, interpreted, object-oriented language written in C, which means it is compiled on-the-fly, at run-time execution.\n",
    "\n",
    "Its syntax is close to C, but without prototyping (whether a variable is an integer or a string will be automatically determined by the context).\n",
    "\n",
    "It can be executed either directly in an interpreter (à la Matlab), in a script or in a notebook (as here).\n",
    "\n",
    "The documentation on Python can be found at [http://docs.python.org](http://docs.python.org).\n",
    "\n",
    "\n",
    "Many resources to learn Python exist on the Web:\n",
    "\n",
    "-  Free book [Dive into Python](http://www.diveintopython.net/).\n",
    "-  [Learn Python the hard way](http://learnpythonthehardway.org).\n",
    "-  Learn Python on [Code academy](http://www.codecademy.com/tracks/python).\n",
    "-  Scipy lectures note [http://www.scipy-lectures.org](http://www.scipy-lectures.org/)\n",
    "-  An Introduction to Interactive Programming in Python on [Coursera](https://www.coursera.org/course/interactivepython)."
   ]
  },
  {
   "cell_type": "markdown",
   "metadata": {},
   "source": [
    "## 1. Working With Python\n",
    "\n",
    "### 1.A. Python Interpreter\n",
    "\n",
    "To start the Python interpreter, simply type its name in a terminal under Linux:\n",
    "\n",
    "- To start Python 2:\n",
    "\n",
    "```bash\n",
    "user@machine ~$ python\n",
    "```\n",
    "\n",
    "```\n",
    "Python 2.7.12 (default, Dec  4 2017, 14:50:18) \n",
    "[GCC 5.4.0 20160609] on linux2\n",
    "Type \"help\", \"copyright\", \"credits\" or \"license\" for more information.\n",
    "```\n",
    "\n",
    "```python\n",
    ">>> print \"Hello World!\"\n",
    "```\n",
    "\n",
    "- To start Python 3:\n",
    "\n",
    "```bash\n",
    "user@machine ~ $ python3\n",
    "```\n",
    "\n",
    "```\n",
    "Python 3.5.2 (default, Nov 23 2017, 16:37:01) \n",
    "[GCC 5.4.0 20160609] on linux\n",
    "Type \"help\", \"copyright\", \"credits\" or \"license\" for more information.\n",
    "\n",
    "```\n",
    "\n",
    "```python\n",
    ">>> print(\"Hello World!\")\n",
    "```\n",
    "\n",
    "- To exit Python call the `exit()` function:\n",
    "\n",
    "```python\n",
    ">>> exit()\n",
    "```"
   ]
  },
  {
   "cell_type": "markdown",
   "metadata": {
    "slideshow": {
     "slide_type": "slide"
    }
   },
   "source": [
    "### 1.B. Scripting\n",
    "\n",
    "Instead of using the interpreter, you can run scripts which can be executed sequentially. Simply edit a text file called `MyScript.py` containing for example:\n",
    "\n",
    "```python\n",
    "# MyScript.py\n",
    "# Implements the Hello World example.\n",
    "\n",
    "text = 'Hello World!' # define a string variable\n",
    "\n",
    "#print text  # Python 2\n",
    "#print(text) # Python 3\n",
    "\n",
    "```\n",
    "\n",
    "\n",
    "The `#` character is used for comments. Remove one of the `#` character at the beginning of one of the last two lines and execute this script by typing in a Terminal:\n",
    "\n",
    "```bash\n",
    "$ python MyScript.py\n",
    "```\n",
    "or \n",
    "\n",
    "```bash\n",
    "$ python3 MyScript.py\n",
    "```\n",
    "\n",
    "Now change the content of the script to:\n",
    "\n",
    "```python\n",
    "# MyScript.py\n",
    "# Implements the Hello World example.\n",
    "\n",
    "from __future__ import print_function\n",
    "\n",
    "text = 'Hello World!' # define a string variable\n",
    "print(text) # now either Python 2 or 3\n",
    "```\n",
    "\n",
    "and execute it again using python 2 and using python 3. \n",
    "\n",
    "As it is a scripted language, each instruction in the script is executed from the beginning to the end, except for the declared functions or classes which can be used later.\n",
    "\n",
    "**Note:** In the B202, it is advised to use `kate` or `kwrite` to edit Python files. The default editor bluefish is for html files..."
   ]
  },
  {
   "cell_type": "markdown",
   "metadata": {
    "slideshow": {
     "slide_type": "slide"
    }
   },
   "source": [
    "### 1.C. Jupyter Notebooks\n",
    "\n",
    "A third recent (but very useful) option is to use Jupyter notebooks (formerly IPython notebooks). \n",
    "\n",
    "Jupyter notebooks allow you to edit Python code in your browser (but also Julia, R, Scala...) and run it locally. \n",
    "\n",
    "To launch a Jupyter notebook, type in a terminal:\n",
    "\n",
    "```bash\n",
    "$ ipython notebook\n",
    "```\n",
    "\n",
    "and create a new notebook (Python 2)\n",
    "\n",
    "When a Jupyter notebook already exists (here `Python.ipynb`), you can also start it directly:\n",
    "\n",
    "```bash\n",
    "$ ipython notebook Python.ipynb\n",
    "```\n",
    "\n",
    "The main particularity is that code is not executed sequentially from the beginning to the end, but only when a **cell** is explicitly run with **Ctrl + Enter** (the active cell stays the same) or **Shift + Enter** (the next cell becomes active).\n",
    "\n",
    "To edit a cell, select it and press **Enter** (or double-click).\n",
    "\n",
    "In the next cell, run the Hello World! example:\n",
    "\n",
    "```python\n",
    "text = 'Hello World!'\n",
    "print(text)\n",
    "```"
   ]
  },
  {
   "cell_type": "code",
   "execution_count": null,
   "metadata": {
    "slideshow": {
     "slide_type": "slide"
    }
   },
   "outputs": [],
   "source": [
    "text = 'Hello World!'\n",
    "print(text)"
   ]
  },
  {
   "cell_type": "markdown",
   "metadata": {
    "slideshow": {
     "slide_type": "slide"
    }
   },
   "source": [
    "There are three types of cells:\n",
    "\n",
    "* Python cells allow to execute Python code (the default)\n",
    "* Markdown cells which allow to document the code nicely (code, equations), like the current one.\n",
    "* Raw cell are passed to nbconvert directly, it allows you to generate html or pdf versions of your notebook (not used here)."
   ]
  },
  {
   "cell_type": "markdown",
   "metadata": {
    "slideshow": {
     "slide_type": "slide"
    }
   },
   "source": [
    "**Beware that the order of execution of the cells matters!**\n",
    "\n",
    "In the next three cells, put the following commands:\n",
    "\n",
    "1. `text = \"Text A\"`\n",
    "2. `text = \"Text B\"`\n",
    "3. `print text`\n",
    "\n",
    "and run them in different orders (e.g. 1, 2, 3, 1, 3)"
   ]
  },
  {
   "cell_type": "code",
   "execution_count": null,
   "metadata": {
    "slideshow": {
     "slide_type": "slide"
    }
   },
   "outputs": [],
   "source": [
    "text = \"Text A\""
   ]
  },
  {
   "cell_type": "code",
   "execution_count": null,
   "metadata": {
    "slideshow": {
     "slide_type": "slide"
    }
   },
   "outputs": [],
   "source": [
    "text = \"Text B\""
   ]
  },
  {
   "cell_type": "code",
   "execution_count": null,
   "metadata": {
    "slideshow": {
     "slide_type": "slide"
    }
   },
   "outputs": [],
   "source": [
    "print(text)"
   ]
  },
  {
   "cell_type": "markdown",
   "metadata": {
    "slideshow": {
     "slide_type": "slide"
    }
   },
   "source": [
    "Executing a cell can therefore influence cells before and after it. If you want to run the notebook sequentially, select **Kernel/Restart & Run all**.\n",
    "\n",
    "Take a moment to explore the options in the menu (Insert cells, Run cells, Download as Python, etc)."
   ]
  },
  {
   "cell_type": "markdown",
   "metadata": {
    "slideshow": {
     "slide_type": "slide"
    }
   },
   "source": [
    "## 2. Basics In Python\n",
    "\n",
    "### 2.A. Print Statement And Print Function\n",
    "\n",
    "In python 2 the `print` statement is used:\n",
    "\n",
    "```python\n",
    "print value1,value2,...\n",
    "```\n",
    ", while in python 3 the `print()` function is used:\n",
    "\n",
    "```python\n",
    "print(value1,value2,...)\n",
    "```\n",
    "\n",
    "In the exercises, we will use primarily Python 2 as it is the default in B202. You can also use the Python 3 style with Python 2 if you declare at the beginning of your script (or in the first cell):\n",
    "\n",
    "```python\n",
    "from __future__ import print_function\n",
    "```"
   ]
  },
  {
   "cell_type": "code",
   "execution_count": null,
   "metadata": {
    "slideshow": {
     "slide_type": "slide"
    }
   },
   "outputs": [],
   "source": [
    "text1 = 'Hello'\n",
    "text2 = \"World!\"\n",
    "\n",
    "print text1,text2"
   ]
  },
  {
   "cell_type": "code",
   "execution_count": null,
   "metadata": {
    "slideshow": {
     "slide_type": "slide"
    }
   },
   "outputs": [],
   "source": [
    "from __future__ import print_function\n",
    "\n",
    "text1 = 'Hello'\n",
    "text2 = \"World!\"\n",
    "\n",
    "print(text1,text2)"
   ]
  },
  {
   "cell_type": "markdown",
   "metadata": {
    "slideshow": {
     "slide_type": "slide"
    }
   },
   "source": [
    "### 2.B. Data Types\n",
    "\n",
    "As Python is an interpreted language, variables can be assigned without specifying their type: it will be inferred at execution time.\n",
    "\n",
    "The only thing that counts is how you initialize them and which operations you perform on them.\n",
    "\n",
    "```python\n",
    "a = 42 # Integer\n",
    "b = 3.14159 # Double precision float\n",
    "c = 'My string' # String\n",
    "d = False # Boolean\n",
    "e = a > b # Boolean\n",
    "```\n",
    "\n",
    "Print these variables as well as their type:\n",
    "```python\n",
    "print(type(a))\n",
    "```"
   ]
  },
  {
   "cell_type": "code",
   "execution_count": null,
   "metadata": {
    "slideshow": {
     "slide_type": "slide"
    }
   },
   "outputs": [],
   "source": [
    "a = 42 # Integer\n",
    "b = 3.14159 # Double precision float\n",
    "c = 'My string' # String\n",
    "d = False # Boolean\n",
    "e = a > b # Boolean\n",
    "\n",
    "print('Value of a is:',a,', Type of a is:',type(a))"
   ]
  },
  {
   "cell_type": "markdown",
   "metadata": {
    "slideshow": {
     "slide_type": "slide"
    }
   },
   "source": [
    "### 2.C. Assignment Statement And Operators\n",
    "\n",
    "#### 2.C.a. Assignment Statement\n",
    "\n",
    "The assignment can be done in many ways:"
   ]
  },
  {
   "cell_type": "code",
   "execution_count": null,
   "metadata": {
    "slideshow": {
     "slide_type": "slide"
    }
   },
   "outputs": [],
   "source": [
    "m = 5+7\n",
    "x,y = 10,20\n",
    "a,b,c,d = 5,'Text',None,x==y\n",
    "i = j = k = 5.\n",
    "p,q=r,s=7,8\n",
    "A,B=(33,55)\n",
    "\n",
    "print('m = ',m)\n",
    "print('x = ',x,', y = ',y)\n",
    "print('a = ',a,', b = ',b,', c = ',c,', d = ',d)\n",
    "print('i = ',i,', j = ',j,', k = ',k)\n",
    "print('p = ',p,', q = ',q,', r = ',r,', s = ',s)\n",
    "print('A = ',A,', B = ',B)"
   ]
  },
  {
   "cell_type": "markdown",
   "metadata": {
    "slideshow": {
     "slide_type": "slide"
    }
   },
   "source": [
    "#### 2.C.b. Operators\n",
    "\n",
    "Some available operators are:\n",
    "\n",
    "```python\n",
    "+ , - , * , ** , / , // , %\n",
    "== , != , <> , > , >= , < , <=\n",
    "and , or , not\n",
    "```\n",
    "\n",
    "Try them and comment on there behaviour:"
   ]
  },
  {
   "cell_type": "code",
   "execution_count": null,
   "metadata": {},
   "outputs": [],
   "source": [
    "print(5/2.)\n",
    "print(5//2.)\n",
    "print(5/2) # different in Python 3. In Python 2, integer\n",
    "# division returns an int, while it returns a float in Python 3\n",
    "print(5//2)\n",
    "print(5%2)"
   ]
  },
  {
   "cell_type": "markdown",
   "metadata": {},
   "source": [
    "#### 2.C.c. Augmented Assignment Statements\n",
    "\n",
    "Augmented assignment is the combination, in a single statement, of a binary operation and an assignment statement. Try them and comment on there behaviour( Notice the use of a semicolon `;` to separate multiple statements on the same line):"
   ]
  },
  {
   "cell_type": "code",
   "execution_count": null,
   "metadata": {},
   "outputs": [],
   "source": [
    "x   = 0 ; print('x = ',x)\n",
    "x  += 1 ; print('x = ',x)\n",
    "x  += 2 ; print('x = ',x)\n",
    "x  *= 3 ; print('x = ',x)\n",
    "x  -= 2 ; print('x = ',x)\n",
    "x  /= 2 ; print('x = ',x)\n",
    "x //= 2.; print('x = ',x)"
   ]
  },
  {
   "cell_type": "markdown",
   "metadata": {},
   "source": [
    "### 2.D. Strings\n",
    "\n",
    "A string in Python can be surrounded by either single or double quotes. Use the function `print()` to see the results of the following statements( Notice the use of the function `len()` to get the length of a string):"
   ]
  },
  {
   "cell_type": "code",
   "execution_count": null,
   "metadata": {},
   "outputs": [],
   "source": [
    "string1 = 'abc'\n",
    "string2 = \"def\"\n",
    "string3 = \"\"\"aaa\n",
    "bbb\n",
    "ccc\"\"\"\n",
    "string4 = \"xxx'yyy\"\n",
    "string5 = 'mmm\"nnn'\n",
    "string6 = \"aaa\\nbbb\\nccc\"\n",
    "print(string1);print('--------')\n",
    "print(string2);print('--------')\n",
    "print(string3);print('--------')\n",
    "print(string4);print('--------')\n",
    "print(string5);print('--------')\n",
    "print(string6);print('--------')\n",
    "print(string1+'--'+string2);print('--------')\n",
    "print('len(string3)=',len(string3));print('--------')"
   ]
  },
  {
   "cell_type": "markdown",
   "metadata": {},
   "source": [
    "### 2.E. Lists And Tuples\n",
    "\n",
    "#### 2.E.a Lists\n",
    "\n",
    "Python knows a number of compound data types, used to group together other values. The most versatile is the list, which can be written as a list of comma-separated values (items) between square brackets `[]`. List items need not all to have the same type. Lists can be created in many different ways (Use the `print()` function to show the results):"
   ]
  },
  {
   "cell_type": "code",
   "execution_count": null,
   "metadata": {},
   "outputs": [],
   "source": [
    "L_A = list()\n",
    "L_B = []\n",
    "L_C = [2,4,6,8,10]\n",
    "L_D = [1,'abc',None,False or True]\n",
    "L_E = [[],55,[3,5,[77,99]]]\n",
    "L_F = list('xyz')\n",
    "\n",
    "L_R1 = range(10)\n",
    "L_R2 = range(5, 10)\n",
    "L_R3 = range(5, 10, 2)\n",
    "L_R4 = range(-5, 5, 3) \n",
    "L_R5 = range(-10, -100, -30)\n",
    "\n",
    "print('L_A =',L_A);print('L_B =',L_B);print('L_C =',L_C)\n",
    "print('L_D =',L_D);print('L_E =',L_E);print('L_F =',L_F)\n",
    "print('L_R1 =',L_R1);print('L_R2 =',L_R2)\n",
    "print('L_R3 =',L_R3);print('L_R4 =',L_R4);print('L_R5 =',L_R5)\n",
    "\n",
    "print('[len(L_A),len(L_E)] =',[len(L_A),len(L_E)])\n",
    "\n",
    "print('L_C+L_D =',L_C+L_D)\n",
    "print('L_C*3   =',L_C*3)"
   ]
  },
  {
   "cell_type": "markdown",
   "metadata": {},
   "source": [
    "To access the elements of the list indexing and slicing can be used:"
   ]
  },
  {
   "cell_type": "code",
   "execution_count": null,
   "metadata": {},
   "outputs": [],
   "source": [
    "A = [11,22,33,44,55,66,77,88,99]\n",
    "print(A[1])\n",
    "print(A[-2])\n",
    "print(A[2:5])\n",
    "print(A[0:-1:2])\n",
    "print(A[-2:1:-2])\n",
    "\n",
    "A[0]=333\n",
    "A[5:0:-1]=[1,2,3,4,5]\n",
    "print(A)\n",
    "\n",
    "del A[0::3]\n",
    "print(A)"
   ]
  },
  {
   "cell_type": "markdown",
   "metadata": {},
   "source": [
    "Copying lists can cause some problems: "
   ]
  },
  {
   "cell_type": "code",
   "execution_count": null,
   "metadata": {},
   "outputs": [],
   "source": [
    "A = [1,2,3]; B = A ; A[0] = 9\n",
    "print('A :',A); print('B :',B)"
   ]
  },
  {
   "cell_type": "code",
   "execution_count": null,
   "metadata": {},
   "outputs": [],
   "source": [
    "import copy\n",
    "A = [1,2,3]; B = A+[]; C = copy.copy(A); A[0] = 9\n",
    "print(A); print(B); print(C)"
   ]
  },
  {
   "cell_type": "markdown",
   "metadata": {},
   "source": [
    "Lists are objects, with a lot of different methods (type `help(list)`):\n",
    "\n",
    "-   list.append(x): Add an item to the end of the list.\n",
    "-   list.extend(L): Extend the list by appending all the items in the given list.\n",
    "-   list.insert(i, x): Insert an item at a given position.\n",
    "-   list.remove(x): Remove the first item from the list whose value is x.\n",
    "-   list.pop(i): Remove the item at the given position in the list, and return it.\n",
    "-   list.index(x): Return the index in the list of the first item whose value is x.\n",
    "-   list.count(x): Return the number of times x appears in the list.\n",
    "-   list.sort(): Sort the items of the list, in place.\n",
    "-   list.reverse(): Reverse the elements of the list, in place."
   ]
  },
  {
   "cell_type": "markdown",
   "metadata": {},
   "source": [
    "#### 2.E.b Tuples\n",
    "\n",
    "A tuple is like a list a compound data type, used to group together other values. A tuple can be written as a list of comma-separated values (items) between round brackets`()`. Tuple items need not all to have the same type. Tuples can be created in many different ways,(Use the `print()` function to show the results):"
   ]
  },
  {
   "cell_type": "code",
   "execution_count": null,
   "metadata": {},
   "outputs": [],
   "source": [
    "A = (1,2); B = (2,4,6); C = tuple([2,4,6,8]); D = A+B\n",
    "X = C[1]; Y = C[0:2]\n",
    "print([A,B,C,D])\n",
    "print([X,Y])\n",
    "A[0] = -1"
   ]
  },
  {
   "cell_type": "markdown",
   "metadata": {},
   "source": [
    "Note: Strings can use indexing and slicing too:"
   ]
  },
  {
   "cell_type": "code",
   "execution_count": null,
   "metadata": {},
   "outputs": [],
   "source": [
    "s='abcdefghijklmnopqrstuvwxyz'\n",
    "print(s[5])\n",
    "print(s[-5])\n",
    "print(s[0:8])\n",
    "s[0] = 'A'"
   ]
  },
  {
   "cell_type": "markdown",
   "metadata": {},
   "source": [
    "### 2.F. Dictionaries\n",
    "\n",
    "Another useful data type built into Python is the dictionary. Unlike sequences, which are indexed by a range of numbers, dictionaries are indexed by keys, which can be any immutable type; strings and numbers can always be keys.\n",
    "\n",
    "Dictionaries can be defined by curly braces `{}` instead of squared brackets. Content is defined by `key:value` pairs:"
   ]
  },
  {
   "cell_type": "code",
   "execution_count": null,
   "metadata": {},
   "outputs": [],
   "source": [
    "tel = {'jack': 4098, 'sape': 4139}\n",
    "tel['guido'] = 4127\n",
    "print(tel)\n",
    "print(tel['jack'])"
   ]
  },
  {
   "cell_type": "markdown",
   "metadata": {},
   "source": [
    "The `keys()` method of a dictionary object returns a **list** of all the keys used in the dictionary, in arbitrary order (if you want it sorted, just apply the sort() function to it). To check whether a single key is in the dictionary, use the `in` keyword."
   ]
  },
  {
   "cell_type": "code",
   "execution_count": null,
   "metadata": {},
   "outputs": [],
   "source": [
    "K = tel.keys()\n",
    "#K.sort()\n",
    "print(K)\n",
    "print('guido' in tel)"
   ]
  },
  {
   "cell_type": "markdown",
   "metadata": {},
   "source": [
    "### 2.G. Flow Control\n",
    "\n",
    "#### 2.G.a If Statement \n",
    "\n",
    "Perhaps the most well-known conditional statement type is the `if` statement. For example:"
   ]
  },
  {
   "cell_type": "code",
   "execution_count": null,
   "metadata": {},
   "outputs": [],
   "source": [
    "x = 5\n",
    "\n",
    "if x < 0 :\n",
    "     print('x =',x,'is negative')\n",
    "elif x == 0:\n",
    "     print('x =',x,'is zero')\n",
    "else:\n",
    "     print('x =',x,'is positive')"
   ]
  },
  {
   "cell_type": "markdown",
   "metadata": {},
   "source": [
    "There can be zero or more elif parts, and the else part is optional. What to do when the condition is true should be indented.\n",
    "\n",
    "The keyword `\"elif\"` is a shortened form of `\"else if\"`, and is useful to avoid excessive indentation.\n",
    "\n",
    "An `if ... elif ... elif ...` sequence is a substitute for the switch or case statements found in other languages."
   ]
  },
  {
   "cell_type": "markdown",
   "metadata": {},
   "source": [
    "#### 2.G.b For Loop\n",
    "\n",
    "The for statement in Python differs a bit from what you may be used to in C or Pascal.\n",
    "\n",
    "Rather than always iterating over an arithmetic progression of numbers (like in Pascal), or giving the user the ability to define both the iteration step and halting condition (as C), Python's for statement iterates over the items of any sequence (a list or a string), in the order they appear in the sequence."
   ]
  },
  {
   "cell_type": "code",
   "execution_count": null,
   "metadata": {},
   "outputs": [],
   "source": [
    "list_words = ['cat', 'window', 'defenestrate']\n",
    "for word in list_words:\n",
    "    print(word, len(word))"
   ]
  },
  {
   "cell_type": "markdown",
   "metadata": {},
   "source": [
    "If you do need to iterate over a sequence of numbers, the built-in function `range()` comes in handy. It generates lists containing arithmetic progressions:"
   ]
  },
  {
   "cell_type": "code",
   "execution_count": null,
   "metadata": {},
   "outputs": [],
   "source": [
    "for i in range(10):\n",
    "   print(i)"
   ]
  },
  {
   "cell_type": "markdown",
   "metadata": {},
   "source": [
    "To iterate over the indices of a sequence, you can combine range() and len() as follows:"
   ]
  },
  {
   "cell_type": "code",
   "execution_count": null,
   "metadata": {},
   "outputs": [],
   "source": [
    "list_words = ['Mary', 'had', 'a', 'little', 'lamb']\n",
    "for idx in range(len(list_words)):\n",
    "    print(idx, list_words[idx])"
   ]
  },
  {
   "cell_type": "markdown",
   "metadata": {},
   "source": [
    "The `enumerate()` function allows to get at the same time the index and the content:"
   ]
  },
  {
   "cell_type": "code",
   "execution_count": null,
   "metadata": {},
   "outputs": [],
   "source": [
    "list_words = ['Mary', 'had', 'a', 'little', 'lamb']\n",
    "for idx, word in enumerate(list_words):\n",
    "    print(idx, word)"
   ]
  },
  {
   "cell_type": "markdown",
   "metadata": {},
   "source": [
    "### 2.H. Functions\n",
    "\n",
    "As in most procedural languages, you can define functions. Functions are defined by the keyword `def`. Only the parameters of the function are specified (without type), not the return values.\n",
    "\n",
    "The main particularity of the Python syntax is that the scope of the different structures (functions, for, if, while, etc...) is defined by the indentation. \n",
    "\n",
    "A reasonable choice is to use four spaces for the indentation instead of tabs (configure your text editor if you are not using Jupyter)."
   ]
  },
  {
   "cell_type": "code",
   "execution_count": null,
   "metadata": {},
   "outputs": [],
   "source": [
    "def say_hello_to(name):\n",
    "    greeting = 'Hello '+ name + '!'\n",
    "    print(greeting)\n",
    "    return greeting\n",
    "\n",
    "return_value = say_hello_to('Jack')\n",
    "\n",
    "print(return_value)"
   ]
  },
  {
   "cell_type": "markdown",
   "metadata": {},
   "source": [
    "Functions can have several parameters (with default values) and return values. The name of the parameter can be specified during the call, so their order won't matter.\n",
    "\n",
    "Usually, the first part of the script will be the libraries to import, the second part will be the definition of functions, and the code to be executed is placed at the end. Jupyter cells can also be organized this way.\n",
    "\n",
    "Try to call the `cos_and_sin()` function in different ways:"
   ]
  },
  {
   "cell_type": "code",
   "execution_count": null,
   "metadata": {},
   "outputs": [],
   "source": [
    "# import the math package\n",
    "from math import *\n",
    "\n",
    "def cos_and_sin(value, freq, phase=0):\n",
    "    \"\"\"\n",
    "    Returns the cosine and sine functions\n",
    "    of a value, given a frequency and a phase.\n",
    "    \"\"\"\n",
    "    angle = 2*pi * freq * value + phase\n",
    "    return cos(angle), sin(angle)\n",
    "\n",
    "v = 1.7\n",
    "f = 4\n",
    "p = pi/2\n",
    "\n",
    "#c, s = cos_and_sin(v, f)\n",
    "#c, s = cos_and_sin(freq=f, value=v)\n",
    "c, s = cos_and_sin(value=v, phase=p, freq=f)\n",
    "print(c,s)"
   ]
  },
  {
   "cell_type": "markdown",
   "metadata": {},
   "source": []
  },
  {
   "cell_type": "markdown",
   "metadata": {},
   "source": [
    "## 3. Exercises\n",
    "\n",
    "### 3.A. If, For, Function\n",
    "\n",
    "1. Put the `if` conditional statement from **2.G.a** in a function and call it with different values of x.\n",
    "2. Experiment with `for` loop from **2.G.b**:\n",
    "    write a function taking a list of integers as input (for example `[0, 2, -3, 4, 1]`) and printing for each element whether it is positive or negative and return the total number of the positive numbers found in the list."
   ]
  },
  {
   "cell_type": "code",
   "execution_count": 11,
   "metadata": {},
   "outputs": [
    {
     "name": "stdout",
     "output_type": "stream",
     "text": [
      "x = -4 is negative\n",
      "x = 0 is zero\n",
      "x = 1 is positive\n"
     ]
    }
   ],
   "source": [
    "#--------- function ---------\n",
    "def test_sign(x):\n",
    "    if x < 0 :\n",
    "         print('x =',x,'is negative')\n",
    "    elif x == 0:\n",
    "         print('x =',x,'is zero')\n",
    "    else:\n",
    "         print('x =',x,'is positive')\n",
    "\n",
    "#--------- main code --------\n",
    "test_sign(-4)\n",
    "test_sign(0)\n",
    "test_sign(1)"
   ]
  },
  {
   "cell_type": "code",
   "execution_count": 2,
   "metadata": {},
   "outputs": [
    {
     "name": "stdout",
     "output_type": "stream",
     "text": [
      "x = 0 is zero\n",
      "x = 2 is positive\n",
      "x = -3 is negative\n",
      "x = 4 is positive\n",
      "x = 1 is positive\n",
      "posNumCount =  3\n"
     ]
    }
   ],
   "source": [
    "def test_sign_list(numbers):\n",
    "    posNumCount = 0\n",
    "    for number in numbers:\n",
    "        if number < 0 :\n",
    "             print('x =',number,'is negative')\n",
    "        elif number == 0:\n",
    "             print('x =',number,'is zero')\n",
    "        else:\n",
    "             posNumCount += 1\n",
    "             print('x =',number,'is positive')\n",
    "    return posNumCount\n",
    "    \n",
    "numbers = [0, 2, -3, 4, 1]\n",
    "posNumCount = test_sign_list(numbers)\n",
    "print('posNumCount = ',posNumCount)"
   ]
  },
  {
   "cell_type": "markdown",
   "metadata": {},
   "source": [
    "### 3.B. Caesar Cipher\n",
    "\n",
    "In cryptography, a Caesar cipher is a very simple encryption technique in which each letter in the plain text is replaced by a letter some fixed number of positions down the alphabet. For example, with a shift of 3, A would be replaced by D, B would become E, and so on. The method is named after Julius Caesar, who used it to communicate with his generals. ROT-13 (\"rotate by 13 places\") is a widely used example of a Caesar cipher where the shift is 13. In Python, the key for ROT-13 may be represented by means of the following dictionary:"
   ]
  },
  {
   "cell_type": "code",
   "execution_count": null,
   "metadata": {},
   "outputs": [],
   "source": [
    "code = {'a':'n', 'b':'o', ... , 'z':'m',\n",
    "        'A':'N', 'B':'O', ... , 'Z':'M'}"
   ]
  },
  {
   "cell_type": "markdown",
   "metadata": {},
   "source": [
    "Your task in this exercise is to implement an encoder/decoder of ROT-13. To do that follow the steps:\n",
    "\n",
    "1. In the Python documentation look for the two functions `ord()` and `chr()` to find out what the do.\n",
    "2. Print the results of the calls: `ord('A'), ord('B'),ord('a'),chr(97+25)` and `chr(97+0)`.\n",
    "3. Create an empty dictionary `code={}`.\n",
    "4. Using a for loop, a range(26) and the function chr() add the `key:value` pairs to `code` in the form `code[key]=value`. \n",
    "5. Write a function `encode_decode()` that accept a string and return the encoded/decoded string( non-letters should not be changed).\n",
    "6. Once you're done, you will be able to call the function and read the following secret message:\n",
    "\n",
    "```\n",
    "BZT! guvf vf fb obevat.\n",
    "```\n",
    "\n",
    "If you don't think so, you may try to solve the problem using any other algorithm of your choice."
   ]
  },
  {
   "cell_type": "code",
   "execution_count": 13,
   "metadata": {},
   "outputs": [
    {
     "name": "stdout",
     "output_type": "stream",
     "text": [
      "OMG! this is so boring.\n"
     ]
    }
   ],
   "source": [
    "#--------- function ---------\n",
    "def fillCodeDict(someDict, asciiOffset, rotation):\n",
    "    for elem in range(26):\n",
    "       if asciiOffset + elem + rotation <= asciiOffset + 25:\n",
    "           someDict[chr(asciiOffset+elem)] = chr(asciiOffset + elem + rotation)\n",
    "       else:\n",
    "           someDict[chr(asciiOffset+elem)] = chr(asciiOffset + elem - rotation)\n",
    "    return someDict\n",
    "\n",
    "#--------- function ---------\n",
    "def encodeDecode(someString, codeDict):\n",
    "    resultString = \"\"\n",
    "    for char in someString:\n",
    "        if char in codeDict.keys():\n",
    "            resultString += codeDict[char]\n",
    "        else:\n",
    "            resultString += char\n",
    "    return resultString\n",
    "\n",
    "#--------- main code --------\n",
    "codeDict = {}\n",
    "codeDict = fillCodeDict(codeDict, 65, 13) # fill in capital letters\n",
    "codeDict = fillCodeDict(codeDict, 97, 13) # fill in small letters\n",
    "\n",
    "#print(codeDict)\n",
    "encodedMessage = \"BZT! guvf vf fb obevat.\"\n",
    "#decodedMessage = \"OMG! this is so boring.\"\n",
    "print(encodeDecode(encodedMessage, codeDict))"
   ]
  }
 ],
 "metadata": {
  "celltoolbar": "Raw Cell Format",
  "kernelspec": {
   "display_name": "Python 3 (ipykernel)",
   "language": "python",
   "name": "python3"
  },
  "language_info": {
   "codemirror_mode": {
    "name": "ipython",
    "version": 3
   },
   "file_extension": ".py",
   "mimetype": "text/x-python",
   "name": "python",
   "nbconvert_exporter": "python",
   "pygments_lexer": "ipython3",
   "version": "3.9.7"
  }
 },
 "nbformat": 4,
 "nbformat_minor": 1
}
